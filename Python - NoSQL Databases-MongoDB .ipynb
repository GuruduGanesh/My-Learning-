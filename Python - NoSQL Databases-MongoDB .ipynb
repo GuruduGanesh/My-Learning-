{
 "cells": [
  {
   "cell_type": "code",
   "execution_count": 39,
   "metadata": {},
   "outputs": [
    {
     "name": "stdout",
     "output_type": "stream",
     "text": [
      "{'Address': 'Sears Streer, NZ',\n",
      " 'Age': '31',\n",
      " 'Name': 'Ganesh Gurudu',\n",
      " '_id': ObjectId('5af562ee2edfb154507c749a')}\n",
      "{'Address': 'New Omsk, WC',\n",
      " 'Age': '42',\n",
      " 'Name': 'G Gurudu',\n",
      " '_id': ObjectId('5af567822edfb154507c74b5')}\n",
      "None\n"
     ]
    }
   ],
   "source": [
    "#Inserting Data\n",
    "\n",
    "# Import the python libraries\n",
    "from pymongo import MongoClient\n",
    "from pprint import pprint\n",
    "\n",
    "# Choose the appropriate client\n",
    "client = MongoClient()\n",
    "\n",
    "# Connect to the test db \n",
    "db=client.test\n",
    "\n",
    "# Use the employee collection\n",
    "employee = db.employee\n",
    "employee_details = {\n",
    "    'Name': 'Ganesh Gurudu',\n",
    "    'Address': 'Sears Streer, NZ',\n",
    "    'Age': '31'\n",
    "}\n",
    "employee_details = {\n",
    "    'Name': 'Ganesh Gurudu',\n",
    "    'Address': 'Sears Streer, NZ',\n",
    "    'Age': '42'\n",
    "}\n",
    "# Use the insert method\n",
    "result = employee.insert_one(employee_details)\n",
    "\n",
    "# Query for the inserted document.\n",
    "Queryresult = employee.find_one({'Age': '31'})\n",
    "pprint(Queryresult)\n",
    "Queryresult = employee.find_one({'Age': '42'})\n",
    "pprint(Queryresult)\n",
    "Queryresult = employee.find_one({'Age': '35'})\n",
    "pprint(Queryresult)"
   ]
  },
  {
   "cell_type": "code",
   "execution_count": 34,
   "metadata": {},
   "outputs": [
    {
     "name": "stdout",
     "output_type": "stream",
     "text": [
      "{'Address': 'New Omsk, WC',\n",
      " 'Age': '42',\n",
      " 'Name': 'G Gurudu',\n",
      " '_id': ObjectId('5af567822edfb154507c74b5')}\n"
     ]
    }
   ],
   "source": [
    "#Updating Data\n",
    "\n",
    "# Import the python libraries\n",
    "from pymongo import MongoClient\n",
    "from pprint import pprint\n",
    "\n",
    "# Choose the appropriate client\n",
    "client = MongoClient()\n",
    "\n",
    "# Connect to db\n",
    "db=client.test\n",
    "employee = db.employee\n",
    "\n",
    "# Use the condition to choose the record\n",
    "# and use the update method\n",
    "db.employee.update_one(\n",
    "        {\"Age\":'42'},\n",
    "        {\n",
    "        \"$set\": {\n",
    "            \"Name\":\"G Gurudu\",\n",
    "            \"Age\":'42',\n",
    "            \"Address\":\"New Omsk, WC\"\n",
    "        }\n",
    "        }\n",
    "    )\n",
    "\n",
    "Queryresult = employee.find_one({'Age':'42'})\n",
    "\n",
    "pprint(Queryresult)"
   ]
  },
  {
   "cell_type": "code",
   "execution_count": 38,
   "metadata": {},
   "outputs": [
    {
     "name": "stdout",
     "output_type": "stream",
     "text": [
      "None\n"
     ]
    }
   ],
   "source": [
    "#Deleting Data\n",
    "\n",
    "# Import the python libraries\n",
    "from pymongo import MongoClient\n",
    "from pprint import pprint\n",
    "\n",
    "# Choose the appropriate client\n",
    "client = MongoClient()\n",
    "\n",
    "# Connect to db\n",
    "db=client.test\n",
    "employee = db.employee\n",
    "\n",
    "# Use the condition to choose the record\n",
    "# and use the delete method\n",
    "db.employee.delete_one({\"Age\":'35'})\n",
    "\n",
    "Queryresult = employee.find_one({'Age':'35'})\n",
    "\n",
    "pprint(Queryresult)"
   ]
  }
 ],
 "metadata": {
  "kernelspec": {
   "display_name": "Python 3",
   "language": "python",
   "name": "python3"
  },
  "language_info": {
   "codemirror_mode": {
    "name": "ipython",
    "version": 3
   },
   "file_extension": ".py",
   "mimetype": "text/x-python",
   "name": "python",
   "nbconvert_exporter": "python",
   "pygments_lexer": "ipython3",
   "version": "3.6.4"
  }
 },
 "nbformat": 4,
 "nbformat_minor": 2
}
