{
 "cells": [
  {
   "cell_type": "code",
   "execution_count": 6,
   "metadata": {},
   "outputs": [
    {
     "name": "stdout",
     "output_type": "stream",
     "text": [
      "IPython: 6.2.1\n",
      "numpy: 1.14.0\n",
      "matplotlib: 2.1.2\n",
      "seaborn: 0.8.1\n",
      "pandas: 0.22.0\n"
     ]
    }
   ],
   "source": [
    "from __future__ import print_function\n",
    "import IPython\n",
    "print('IPython:',IPython.__version__)\n",
    "\n",
    "import numpy\n",
    "print('numpy:',numpy.__version__)\n",
    "\n",
    "\n",
    "import matplotlib\n",
    "print('matplotlib:',matplotlib.__version__)\n",
    "\n",
    "\n",
    "import seaborn\n",
    "print('seaborn:',seaborn.__version__)\n",
    "\n",
    "\n",
    "import pandas\n",
    "print('pandas:',pandas.__version__)"
   ]
  }
 ],
 "metadata": {
  "kernelspec": {
   "display_name": "Python 3",
   "language": "python",
   "name": "python3"
  },
  "language_info": {
   "codemirror_mode": {
    "name": "ipython",
    "version": 3
   },
   "file_extension": ".py",
   "mimetype": "text/x-python",
   "name": "python",
   "nbconvert_exporter": "python",
   "pygments_lexer": "ipython3",
   "version": "3.6.4"
  }
 },
 "nbformat": 4,
 "nbformat_minor": 2
}
