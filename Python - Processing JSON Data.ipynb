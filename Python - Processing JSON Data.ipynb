{
 "cells": [
  {
   "cell_type": "code",
   "execution_count": 15,
   "metadata": {},
   "outputs": [
    {
     "name": "stdout",
     "output_type": "stream",
     "text": [
      "         Dept  ID      Name  Salary   StartDate\n",
      "0          IT   1      Rick  623.30    1/1/2012\n",
      "1  Operations   2       Dan  515.20   9/23/2013\n",
      "2          IT   3  Michelle  611.00  11/15/2014\n",
      "3          HR   4      Ryan  729.00   5/11/2014\n",
      "4     Finance   5      Gary  843.25   3/27/2015\n",
      "5          IT   6      Nina  578.00   5/21/2013\n",
      "6  Operations   7     Simon  632.80   7/30/2013\n",
      "7     Finance   8      Guru  722.50   6/17/2014\n",
      "{\"Dept\":\"IT\",\"ID\":1,\"Name\":\"Rick\",\"Salary\":623.3,\"StartDate\":\"1\\/1\\/2012\"}\n",
      "{\"Dept\":\"Operations\",\"ID\":2,\"Name\":\"Dan\",\"Salary\":515.2,\"StartDate\":\"9\\/23\\/2013\"}\n",
      "{\"Dept\":\"IT\",\"ID\":3,\"Name\":\"Michelle\",\"Salary\":611.0,\"StartDate\":\"11\\/15\\/2014\"}\n",
      "{\"Dept\":\"HR\",\"ID\":4,\"Name\":\"Ryan\",\"Salary\":729.0,\"StartDate\":\"5\\/11\\/2014\"}\n",
      "{\"Dept\":\"Finance\",\"ID\":5,\"Name\":\"Gary\",\"Salary\":843.25,\"StartDate\":\"3\\/27\\/2015\"}\n",
      "{\"Dept\":\"IT\",\"ID\":6,\"Name\":\"Nina\",\"Salary\":578.0,\"StartDate\":\"5\\/21\\/2013\"}\n",
      "{\"Dept\":\"Operations\",\"ID\":7,\"Name\":\"Simon\",\"Salary\":632.8,\"StartDate\":\"7\\/30\\/2013\"}\n",
      "{\"Dept\":\"Finance\",\"ID\":8,\"Name\":\"Guru\",\"Salary\":722.5,\"StartDate\":\"6\\/17\\/2014\"}\n"
     ]
    }
   ],
   "source": [
    "#Read the JSON File\n",
    "import pandas as pd\n",
    "\n",
    "data = pd.read_json('input.json')\n",
    "print (data)\n",
    "#convert data to JSON\n",
    "print(data.to_json(orient='records', lines=True))\n"
   ]
  },
  {
   "cell_type": "code",
   "execution_count": 17,
   "metadata": {},
   "outputs": [
    {
     "name": "stdout",
     "output_type": "stream",
     "text": [
      "   salary   name\n",
      "1   515.2    Dan\n",
      "3   729.0   Ryan\n",
      "5   578.0  Rasmi\n"
     ]
    }
   ],
   "source": [
    "#Reading Specific Columns and Rows\n",
    "\n",
    "import pandas as pd\n",
    "data = pd.read_excel('input.xlsx')\n",
    "\n",
    "# Use the multi-axes indexing funtion\n",
    "print (data.loc[[1,3,5],['salary','name']])"
   ]
  },
  {
   "cell_type": "code",
   "execution_count": 30,
   "metadata": {},
   "outputs": [
    {
     "name": "stdout",
     "output_type": "stream",
     "text": [
      "****Result Sheet 1****\n",
      "0    623.30\n",
      "1    515.20\n",
      "2    611.00\n",
      "3    729.00\n",
      "4    843.25\n",
      "Name: salary, dtype: float64\n",
      "\n",
      "\n",
      "***Result Sheet 2****\n",
      "0    301224\n",
      "1    341255\n",
      "2    297704\n",
      "3    216650\n",
      "4    438700\n",
      "Name: zipcode, dtype: int64\n"
     ]
    }
   ],
   "source": [
    "import pandas as pd\n",
    "with pd.ExcelFile('input.xlsx') as xls:\n",
    "    df1 = pd.read_excel(xls, 'Sheet1')\n",
    "    df2 = pd.read_excel(xls, 'Sheet2')\n",
    "\n",
    "print(\"****Result Sheet 1****\")\n",
    "print (df1[0:5]['salary'])\n",
    "print(\"\\n\")\n",
    "print(\"***Result Sheet 2****\")\n",
    "print (df2[0:5]['zipcode'])"
   ]
  }
 ],
 "metadata": {
  "kernelspec": {
   "display_name": "Python 3",
   "language": "python",
   "name": "python3"
  },
  "language_info": {
   "codemirror_mode": {
    "name": "ipython",
    "version": 3
   },
   "file_extension": ".py",
   "mimetype": "text/x-python",
   "name": "python",
   "nbconvert_exporter": "python",
   "pygments_lexer": "ipython3",
   "version": "3.6.4"
  }
 },
 "nbformat": 4,
 "nbformat_minor": 2
}
