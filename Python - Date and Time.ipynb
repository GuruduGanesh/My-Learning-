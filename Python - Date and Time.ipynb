{
 "cells": [
  {
   "cell_type": "code",
   "execution_count": 18,
   "metadata": {},
   "outputs": [
    {
     "name": "stdout",
     "output_type": "stream",
     "text": [
      "The Date Today is  : 2018-05-11 16:27:34.887683\n",
      "2018-05-11\n",
      "This Year   : 2018\n",
      "This Day   : 11\n",
      "This Month    : 5\n",
      "Month Name: May\n",
      "This Week Day    : 11\n",
      "Week Day Name: Friday\n",
      "Week Day Name: 2018-05-11\n"
     ]
    }
   ],
   "source": [
    "#Date Time Representation\n",
    "\n",
    "import datetime\n",
    "\n",
    "print ('The Date Today is  :', datetime.datetime.today())\n",
    "\n",
    "date_today = datetime.date.today()\n",
    "print (date_today)\n",
    "print ('This Year   :', date_today.year)\n",
    "print ('This Day   :', date_today.day)\n",
    "print ('This Month    :', date_today.month)\n",
    "print ('Month Name:',date_today.strftime('%B'))\n",
    "print ('This Week Day    :', date_today.day)\n",
    "print ('Week Day Name:',date_today.strftime('%A'))\n",
    "print ('Week Day Name:',date_today.strftime('%F'))"
   ]
  },
  {
   "cell_type": "code",
   "execution_count": 24,
   "metadata": {},
   "outputs": [
    {
     "name": "stdout",
     "output_type": "stream",
     "text": [
      "day1: Thu Feb 22 00:00:00 2018\n",
      "day2: Fri Aug 18 00:00:00 2017\n",
      "Number of Days: 188 days, 0:00:00\n",
      "Before Four Days: 2018-05-07\n",
      "After Four Days: 2018-05-15\n"
     ]
    }
   ],
   "source": [
    "#Date Time Arithmetic\n",
    "\n",
    "import datetime \n",
    " \n",
    "#Capture the First Date\n",
    "day1 = datetime.date(2018, 2, 22)\n",
    "print ('day1:', day1.ctime())\n",
    "\n",
    "# Capture the Second Date\n",
    "day2 = datetime.date(2017, 8, 18)\n",
    "print ('day2:', day2.ctime())\n",
    "\n",
    "# Find the difference between the dates\n",
    "print ('Number of Days:', day1-day2)\n",
    "\n",
    "\n",
    "date_today  = datetime.date.today() \n",
    "\n",
    "# Create a delta of Four Days \n",
    "no_of_days = datetime.timedelta(days=4) \n",
    "\n",
    "# Use Delta for Past Date\n",
    "before_four_days = date_today - no_of_days \n",
    "print ('Before Four Days:', before_four_days )\n",
    " \n",
    "# Use Delta for future Date\n",
    "after_four_days = date_today + no_of_days \n",
    "print ('After Four Days:', after_four_days )"
   ]
  }
 ],
 "metadata": {
  "kernelspec": {
   "display_name": "Python 3",
   "language": "python",
   "name": "python3"
  },
  "language_info": {
   "codemirror_mode": {
    "name": "ipython",
    "version": 3
   },
   "file_extension": ".py",
   "mimetype": "text/x-python",
   "name": "python",
   "nbconvert_exporter": "python",
   "pygments_lexer": "ipython3",
   "version": "3.6.4"
  }
 },
 "nbformat": 4,
 "nbformat_minor": 2
}
